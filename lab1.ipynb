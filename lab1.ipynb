{
 "cells": [
  {
   "cell_type": "markdown",
   "metadata": {
    "pycharm": {
     "name": "#%% md\n"
    }
   },
   "source": [
    "# **Save this file as studentid1_studentid2_lab#.ipynb**\n",
    "(Your student-id is the number shown on your student card.)\n",
    "\n",
    "E.g. if you work with 2 people, the notebook should be named:\n",
    "12301230_3434343_lab1.ipynb.\n",
    "\n",
    "**IMPORTANT: This will be parsed by a regexp, so please double check your filename.**\n",
    "\n",
    "**Only one member of each group has to submit the file to canvas.**\n",
    "\n",
    "Before you turn this problem in, please make sure everything runs correctly. First, **restart the kernel** (in the menubar, select Kernel$\\rightarrow$Restart) and then **run all cells** (in the menubar, select Cell$\\rightarrow$Run All). Note, that **you are not allowed to use Google Colab**.\n",
    "\n",
    "**Make sure you fill in any place that says `YOUR CODE HERE`.**\n",
    "\n",
    "**Finally, please add your names and email adresses below.**\n",
    "\n"
   ]
  },
  {
   "cell_type": "markdown",
   "metadata": {
    "pycharm": {
     "name": "#%% md\n"
    }
   },
   "source": [
    "NAME = \"Ioanna Gogou\"\n",
    "NAME2 = \"Marta Lopes\"\n",
    "NAME3 = \"Sander Broos\"\n",
    "EMAIL = \"ioanna.gogou@student.uva.nl\"\n",
    "EMAIL2 = \"marta.freixo.lopes@student.uva.nl\"\n",
    "EMAIL3 = \"\""
   ]
  },
  {
   "cell_type": "markdown",
   "metadata": {
    "pycharm": {
     "name": "#%% md\n"
    }
   },
   "source": [
    "# Lab 1: Linear Regression and Overfitting\n",
    "\n",
    "### Machine Learning 1, September/October 2022\n",
    "\n",
    "Notes on implementation:\n",
    "\n",
    "* You should write your code and answers in this IPython Notebook: http://ipython.org/notebook.html. If you have problems, please contact your TA.\n",
    "* Among the first lines of your notebook should be \"%pylab inline\". This imports all required modules, and your plots will appear inline.\n",
    "* Refer to last week's lab notes, i.e. http://docs.scipy.org/doc/, if you are unsure about what function to use. There are different correct ways to implement each problem!\n",
    "* For this lab, your regression solutions should be in closed form, i.e., should not perform iterative gradient-based optimization but find the exact optimum directly.\n",
    "*Use the provided test boxes to check if your answers are correct.\n",
    "* **Do not change the arugments in our functions!**\n",
    "* **Do not remove add new cells. If you do so you should expect a penalty from ourside!**\n",
    "\n",
    "### Relevant materials for this assignment\n",
    "\n",
    "* Erik's video lectures Week 3 and 4 \n",
    "* Christopher Bishop book: Pattern recognition and machine learning (Chapter 3)\n",
    "* Mathematics for machine learning (Section 8.3 and 8.4)"
   ]
  },
  {
   "cell_type": "code",
   "execution_count": 2,
   "metadata": {
    "pycharm": {
     "name": "#%%\n"
    }
   },
   "outputs": [
    {
     "name": "stdout",
     "output_type": "stream",
     "text": [
      "%pylab is deprecated, use %matplotlib inline and import the required libraries.\n",
      "Populating the interactive namespace from numpy and matplotlib\n"
     ]
    }
   ],
   "source": [
    "import numpy as np\n",
    "%pylab inline\n",
    "plt.rcParams[\"figure.figsize\"] = [20,10]"
   ]
  },
  {
   "cell_type": "code",
   "execution_count": 3,
   "metadata": {
    "pycharm": {
     "name": "#%%\n"
    }
   },
   "outputs": [],
   "source": [
    "# This cell makes sure that you have all the necessary libraries installed\n",
    "\n",
    "import sys\n",
    "import platform\n",
    "from importlib.util import find_spec, module_from_spec\n",
    "\n",
    "def check_newer_version(version_inst, version_nec):\n",
    "    version_inst_split = version_inst.split('.')\n",
    "    version_nec_split = version_nec.split('.')\n",
    "    for i in range(min(len(version_inst_split), len(version_nec_split))):\n",
    "        if int(version_nec_split[i]) > int(version_inst_split[i]):\n",
    "            return False\n",
    "        elif int(version_nec_split[i]) < int(version_inst_split[i]):\n",
    "            return True\n",
    "    return True\n",
    "\n",
    "\n",
    "module_list = [('jupyter', '1.0.0'), \n",
    "               ('matplotlib', '3.5.1'), \n",
    "               ('numpy', '1.22.3'), \n",
    "               ('python', '3.9.5'), \n",
    "               ('sklearn', '1.1.1'), \n",
    "               ('scipy', '1.7.3'), \n",
    "               ('nb_conda', '2.2.1')]\n",
    "\n",
    "packages_correct = True\n",
    "packages_errors = []\n",
    "\n",
    "for module_name, version in module_list:\n",
    "    if module_name == 'scikit-learn':\n",
    "        module_name = 'sklearn'\n",
    "    if 'python' in module_name:\n",
    "        python_version = platform.python_version()\n",
    "        if not check_newer_version(python_version, version):\n",
    "            packages_correct = False\n",
    "            error = f'Update {module_name} to version {version}. Current version is {python_version}.'\n",
    "            packages_errors.append(error) \n",
    "            print(error)\n",
    "    else:\n",
    "        spec = find_spec(module_name)\n",
    "        if spec is None:\n",
    "            packages_correct = False\n",
    "            error = f'Install {module_name} with version {version} or newer, it is required for this assignment!'\n",
    "            packages_errors.append(error) \n",
    "            print(error)\n",
    "        else:\n",
    "            x = __import__(module_name)\n",
    "            if hasattr(x, '__version__') and not check_newer_version(x.__version__, version):\n",
    "                packages_correct = False\n",
    "                error = f'Update {module_name} to version {version}. Current version is {x.__version__}.'\n",
    "                packages_errors.append(error) \n",
    "                print(error)\n",
    "\n",
    "try:\n",
    "    from google.colab import drive\n",
    "    packages_correct = False\n",
    "    error = \"\"\"Please, don't use google colab!\n",
    "It will make it much more complicated for us to check your homework as it merges all the cells into one.\"\"\"\n",
    "    packages_errors.append(error) \n",
    "    print(error)\n",
    "except:\n",
    "    pass\n",
    "\n",
    "packages_errors = '\\n'.join(packages_errors)"
   ]
  },
  {
   "cell_type": "markdown",
   "metadata": {
    "pycharm": {
     "name": "#%% md\n"
    }
   },
   "source": [
    "Relevant materials for this part:\n",
    "\n",
    "* Erik's lecture 3.1 and 3.2\n",
    "* Section 1.1 and 3.1 from Bishop's book Pattern recognition for machine learning.\n",
    "* Mathematics for machine learning (Section 8.3)\n",
    "\n",
    "\n",
    "### 1.1. Generate periodic data (5 points)\n",
    "Write a method `gen_sine(N)` that generates toy data like in fig 1.2 of Bishop's book. The method should have a parameter $N$, and should return $N$-dimensional vectors $\\mathbf{x}$ and $\\mathbf{t}$, where $\\mathbf{x}$ contains evenly spaced values from 0 to (including) 2$\\pi$, and the elements $t_i$ of $\\mathbf{t}$ are distributed according to:\n",
    "\n",
    "$$t_i \\sim \\mathcal{N}(\\mu_i, \\sigma^2)$$\n",
    "\n",
    "where $x_i$ is the $i$-th elements of $\\bf{x}$, the mean $\\mu_i = \\sin(x_i)$ and the standard deviation $\\sigma = 0.25$. You can make use of `np.random.normal()` (Hint: Double check its input parameters).\n"
   ]
  },
  {
   "cell_type": "code",
   "execution_count": 4,
   "metadata": {
    "pycharm": {
     "name": "#%%\n"
    }
   },
   "outputs": [],
   "source": [
    "def gen_sine(n):    \n",
    "    x = np.linspace(0, 2*np.pi, n)\n",
    "    t = np.random.normal(np.sin(x), 0.25)\n",
    "\n",
    "    return x, t"
   ]
  },
  {
   "cell_type": "code",
   "execution_count": 5,
   "metadata": {
    "pycharm": {
     "name": "#%%\n"
    }
   },
   "outputs": [],
   "source": [
    "### Test your function\n",
    "np.random.seed(42)\n",
    "N = 10\n",
    "x, t = gen_sine(N)\n",
    "\n",
    "assert x.shape == (N,), \"the shape of x is incorrect\"\n",
    "assert t.shape == (N,), \"the shape of t is incorrect\"\n",
    "\n"
   ]
  },
  {
   "cell_type": "markdown",
   "metadata": {
    "pycharm": {
     "name": "#%% md\n"
    }
   },
   "source": [
    "### 1.2 Polynomial regression (10 points)\n",
    "\n",
    "Write a method `fit_polynomial(x, t, M)` that finds the maximum-likelihood solution of an _unregularized_ $M$-th order polynomial for some dataset `x`. The error function to minimize w.r.t. $\\mathbf{w}$ is:\n",
    "\n",
    "$E(\\mathbf{w}) = \\frac{1}{2} (\\mathbf{\\Phi} \\mathbf{w} - \\mathbf{t})^T(\\mathbf{\\Phi} \\mathbf{w} - \\mathbf{t})$\n",
    "\n",
    "where $\\mathbf{\\Phi}$ is the _feature matrix_ (or _design matrix_) as explained in Bishop's book at section 3.1.1, $\\mathbf{t}$ is the vector of target values. Your method should return a vector $\\mathbf{w}$ with the maximum-likelihood parameter estimates, as well as the _feature matrix_ $\\mathbf{\\Phi}$."
   ]
  },
  {
   "cell_type": "code",
   "execution_count": 6,
   "metadata": {
    "pycharm": {
     "name": "#%%\n"
    }
   },
   "outputs": [],
   "source": [
    "def phi(x_j, M):\n",
    "    I = range (M+1)\n",
    "    v = [x_j**i for i in I]\n",
    "    return v\n",
    "\n",
    "def designmatrix(x, M): # it is highly recommended to write a helper function that computes Phi\n",
    "    v = np.array([phi(x_j, M) for x_j in x])\n",
    "    return v\n",
    "    \n",
    "def fit_polynomial(x, t, M):\n",
    "    Phi = designmatrix(x, M)\n",
    "    Phi_t = Phi.transpose() #transposed phi\n",
    "    w_ml = dot(dot(np.linalg.inv(np.dot(Phi_t, Phi)), Phi_t), t)\n",
    "    \n",
    "    return w_ml, Phi"
   ]
  },
  {
   "cell_type": "code",
   "execution_count": 7,
   "metadata": {
    "pycharm": {
     "name": "#%%\n"
    }
   },
   "outputs": [],
   "source": [
    "### Test your function\n",
    "N = 10\n",
    "x = np.linspace(-1, 1, N)\n",
    "t = 0.3*np.square(x) + 2.5\n",
    "m = 2\n",
    "w, Phi = fit_polynomial(x,t,m)\n",
    "\n",
    "assert w.shape == (m+1,), \"The shape of w is incorrect\"\n",
    "assert Phi.shape == (N, m+1), \"The shape of Phi is incorrect\"\n",
    "\n"
   ]
  },
  {
   "cell_type": "markdown",
   "metadata": {
    "pycharm": {
     "name": "#%% md\n"
    }
   },
   "source": [
    "### 1.3 Plot (5 points)\n",
    "Sample a dataset with $N=10$, and fit four polynomials with $M \\in (0, 2, 4, 8)$.\n",
    "For each value of $M$, plot the prediction function, along with the data and the original sine function. The resulting figure should look similar to fig 1.4 of the Bishop's book. Note that you can use matplotlib's `plt.pyplot(.)` functionality for creating grids of figures."
   ]
  },
  {
   "cell_type": "code",
   "execution_count": 8,
   "metadata": {
    "pycharm": {
     "name": "#%%\n"
    }
   },
   "outputs": [
    {
     "data": {
      "image/png": "[encoded data removed]",
      "text/plain": [
       "<Figure size 2000x1000 with 4 Axes>"
      ]
     },
     "metadata": {},
     "output_type": "display_data"
    }
   ],
   "source": [
    "N = 10  # Number of datapoints\n",
    "M = [0,2,4,8]  # Polynomial order choices\n",
    "K = 100  # Number of points to create a linear space for the continuous functions\n",
    "\n",
    "x, t = gen_sine(N)  # Sample dataset (random data in every run)\n",
    "x_lin = np.linspace(0, 2*np.pi, K)\n",
    "t_sin = np.sin(x_lin)  # Original sine function\n",
    "\n",
    "# Get the predicted functions\n",
    "t_pred = []\n",
    "for m in M:  # For each polynomial order\n",
    "    w_m_pred, _ = fit_polynomial(x, t, m)  # Get the predicted coefficients of m-order polynomial\n",
    "    t_m_pred = np.zeros(K)\n",
    "    for i in range(m+1):\n",
    "        t_m_pred += w_m_pred[i]*(x_lin**i)  # Calculate m-order polynomial\n",
    "    t_pred.append(t_m_pred)  # Put the polynomial in the polynomials list\n",
    "\n",
    "# Plot figures\n",
    "plot_pos = [[0,0],[0,1],[1,0],[1,1]]  # Plot positions\n",
    "plot_titles = [f'M = {m}' for m in M]  # Plot titles\n",
    "fig, axs = plt.subplots(2, 2)\n",
    "for i in range(len(M)):\n",
    "    axs[plot_pos[i][0],plot_pos[i][1]].scatter(x, t, color='blue')\n",
    "    axs[plot_pos[i][0],plot_pos[i][1]].plot(x_lin, t_pred[i], color='red')\n",
    "    axs[plot_pos[i][0],plot_pos[i][1]].plot(x_lin, t_sin, color='green')\n",
    "    axs[plot_pos[i][0],plot_pos[i][1]].plot(x_lin, t_sin, color='green')\n",
    "    axs[plot_pos[i][0],plot_pos[i][1]].set_title(plot_titles[i])\n",
    "for ax in axs.flat:\n",
    "    ax.set(xlabel='x', ylabel='t')\n",
    "    ax.set(ylim=[-1.5,1.5])"
   ]
  },
  {
   "cell_type": "markdown",
   "metadata": {
    "pycharm": {
     "name": "#%% md\n"
    }
   },
   "source": [
    "### 1.4 Regularized linear regression (15 points)\n",
    "\n",
    "Relevant material for this part:\n",
    "\n",
    "* Lecture 3.5 (Regularized Least Squares)\n",
    "* Section 1.1 and 3.1.4 from Bishop's book Pattern recognition for machine learning.\n",
    "* Mathematics for machine learning (Section 8.3.2)\n",
    "\n",
    "a) (10 points) Write a method `fit_polynomial_reg(x, t, M, lamb)` that fits a _regularized_ $M$-th order polynomial to the periodic data, as discussed in the lectures, where `lamb` is the regularization term _lambda_. (Note that 'lambda' cannot be used as a variable name in Python since it has a special meaning). The error function to minimize w.r.t. $\\mathbf{w}$:\n",
    "\n",
    "$E(\\mathbf{w}) = \\frac{1}{2} (\\mathbf{\\Phi}\\mathbf{w}- \\mathbf{t})^T(\\mathbf{\\Phi}\\mathbf{w}- \\mathbf{t}) + \\frac{\\lambda}{2} \\mathbf{w}^T \\mathbf{w}$\n",
    "\n",
    "\n",
    "The function should return $\\mathbf{w}$ and $ \\mathbf{\\Phi} $."
   ]
  },
  {
   "cell_type": "code",
   "execution_count": 10,
   "metadata": {
    "pycharm": {
     "name": "#%%\n"
    }
   },
   "outputs": [],
   "source": [
    "def fit_polynomial_reg(x, t, M, lamb):\n",
    "    Phi = designmatrix(x, M)\n",
    "    Phi_t = Phi.transpose() #transposed phi\n",
    "    w_ml = np.linalg.inv(lamb * np.identity(Phi.shape[1]) + Phi_t @ Phi) @ (Phi_t @ t)\n",
    "    \n",
    "    return w_ml, Phi\n",
    "\n",
    "# c.athanasiadis@uva.nl"
   ]
  },
  {
   "cell_type": "code",
   "execution_count": 11,
   "metadata": {
    "pycharm": {
     "name": "#%%\n"
    }
   },
   "outputs": [],
   "source": [
    "### Test your function\n",
    "N = 10\n",
    "x = np.linspace(-1, 1, N)\n",
    "t = 0.3*np.square(x) + 2.5\n",
    "m = 2\n",
    "lamb = 0.1\n",
    "w, Phi = fit_polynomial_reg(x,t,m, lamb)\n",
    "\n",
    "assert w.shape == (m+1,), \"The shape of w is incorrect\"\n",
    "assert Phi.shape == (N, m+1), \"The shape of w is incorrect\" \n",
    "\n"
   ]
  },
  {
   "cell_type": "markdown",
   "metadata": {
    "pycharm": {
     "name": "#%% md\n"
    }
   },
   "source": [
    "b) (5 points) What changes do you notice in $\\mathbf{w}$ and $\\mathbf{\\Phi}$ after introducing the regularization term? Why is this happening?\n",
    "\n",
    "(Write no more than 5 lines. For example, you can consider the simple test case with $t = 0.3*x^2 + 2.5$)"
   ]
  },
  {
   "cell_type": "markdown",
   "metadata": {
    "pycharm": {
     "name": "#%% md\n"
    }
   },
   "source": [
    "YOUR ANSWER HERE"
   ]
  },
  {
   "cell_type": "markdown",
   "metadata": {
    "pycharm": {
     "name": "#%% md\n"
    }
   },
   "source": [
    "### 1.5 Model selection by cross-validation (15 points)\n",
    "\n",
    "Relevant material for this part:\n",
    "\n",
    "* Lecture 4.1 and 4.2 (Model Selection, Bias Variance Decomposition)\n",
    "\n",
    "Use cross-validation to find a good choice of $M$ and $\\lambda$, given a dataset of $N=10$ datapoints generated with `gen_sine(10)`. You should write a function that tries (loops over) a reasonable range of choices of $M$ and $\\lambda$, and returns the choice with the best cross-validation error. In this case you use $K=5$ folds.\n",
    "\n",
    "You can let $M \\in (0, 1, ..., 10)$, and let $\\lambda \\in (e^{-10}, e^{-9}, ..., e^{0})$.\n",
    "\n",
    "a) (5 points) First of all, write a method `pred_error(x_train, x_valid, t_train, t_valid, M, lamb)` that compares the prediction of your method `fit_polynomial_reg` for a given set of parameters $M$ and $\\lambda$ to `t_valid`. It should return the prediction error for a single fold."
   ]
  },
  {
   "cell_type": "code",
   "execution_count": 377,
   "metadata": {
    "pycharm": {
     "name": "#%%\n"
    }
   },
   "outputs": [],
   "source": [
    "# def pred_error(x_train, x_valid, t_train, t_valid, M, reg):\n",
    "\n",
    "#     w, Phi_old = fit_polynomial_reg(x_train,t_train,M, reg)  # Get predicted coefficients of polynomial\n",
    "\n",
    "# #     print(w)\n",
    "    \n",
    "#     # Calculate prediction error\n",
    "#     Phi = designmatrix(x_valid,M)\n",
    "    \n",
    "#     pred = Phi @ w\n",
    "#     pred_err = sum((pred - t_valid) ** 2) / 2\n",
    "# #     print(pred_err)\n",
    "#     pred_err = (2 * pred_err / len(pred))**0.5\n",
    "# #     print(pred_err)\n",
    "    \n",
    "# #     w, Phi_old = fit_polynomial_reg(x_train,t_train,M, reg)\n",
    "# #     Phi = designmatrix(x_valid,M)\n",
    "# #     pred = Phi @ w\n",
    "# #     print((np.mean((pred - t_valid) ** 2))**0.5)\n",
    "    \n",
    "# #     print(pred)\n",
    "    \n",
    "# #     pred_err = (np.transpose(Phi @ w - t_valid)) @ (Phi @ w - t_valid) / 2 + reg * np.transpose(w) @ w / 2\n",
    "    \n",
    "# #     all_x = np.linspace(x_train[0], x_valid[-1], 100)\n",
    "# #     fit_curve = np.zeros(len(all_x))\n",
    "    \n",
    "# #     for i in range(M+1):\n",
    "# #         fit_curve += w[i] * all_x**i\n",
    "        \n",
    "# #     plt.plot(all_x, fit_curve, \"r-\")\n",
    "# #     print(w)\n",
    "    \n",
    "#     return pred_err\n",
    "\n",
    "# ### Test your function\n",
    "# N = 10\n",
    "# x = np.linspace(-1, 1, N)\n",
    "# t = 0.3*np.square(x) + 2.5\n",
    "# M = 2\n",
    "# reg = 0.1\n",
    "# pred_err = pred_error(x[:-2], x[-2:], t[:-2], t[-2:], M, reg)\n",
    "\n",
    "# # plt.plot(x[:-2], t[:-2], 'b-', label='Valid')\n",
    "# # plt.plot(x[-2:], t[-2:], 'b-')\n",
    "# # plt.legend()\n",
    "# # plt.show()\n",
    "\n",
    "# assert pred_err < 0.001, \"pred_err is too big\"\n",
    "\n",
    "def pred_error(x_train, x_valid, t_train, t_valid, M, reg):\n",
    "\n",
    "    w, _ = fit_polynomial_reg(x_train,t_train,M, reg)  # Get predicted coefficients of polynomial\n",
    "\n",
    "    # Calculate prediction error\n",
    "    Phi = designmatrix(x_valid,M)\n",
    "    pred_err = (np.transpose(Phi @ w - t_valid)) @ (Phi @ w - t_valid) / 2 + reg * np.transpose(w) @ w / 2\n",
    "    \n",
    "    return pred_err"
   ]
  },
  {
   "cell_type": "code",
   "execution_count": 378,
   "metadata": {
    "pycharm": {
     "name": "#%%\n"
    }
   },
   "outputs": [
    {
     "ename": "AssertionError",
     "evalue": "pred_err is too big",
     "output_type": "error",
     "traceback": [
      "\u001b[1;31m---------------------------------------------------------------------------\u001b[0m",
      "\u001b[1;31mAssertionError\u001b[0m                            Traceback (most recent call last)",
      "Input \u001b[1;32mIn [378]\u001b[0m, in \u001b[0;36m<cell line: 9>\u001b[1;34m()\u001b[0m\n\u001b[0;32m      6\u001b[0m reg \u001b[38;5;241m=\u001b[39m \u001b[38;5;241m0.1\u001b[39m\n\u001b[0;32m      7\u001b[0m pred_err \u001b[38;5;241m=\u001b[39m pred_error(x[:\u001b[38;5;241m-\u001b[39m\u001b[38;5;241m2\u001b[39m], x[\u001b[38;5;241m-\u001b[39m\u001b[38;5;241m2\u001b[39m:], t[:\u001b[38;5;241m-\u001b[39m\u001b[38;5;241m2\u001b[39m], t[\u001b[38;5;241m-\u001b[39m\u001b[38;5;241m2\u001b[39m:], M, reg)\n\u001b[1;32m----> 9\u001b[0m \u001b[38;5;28;01massert\u001b[39;00m pred_err \u001b[38;5;241m<\u001b[39m \u001b[38;5;241m0.001\u001b[39m, \u001b[38;5;124m\"\u001b[39m\u001b[38;5;124mpred_err is too big\u001b[39m\u001b[38;5;124m\"\u001b[39m\n",
      "\u001b[1;31mAssertionError\u001b[0m: pred_err is too big"
     ]
    }
   ],
   "source": [
    "### Test your function\n",
    "N = 10\n",
    "x = np.linspace(-1, 1, N)\n",
    "t = 0.3*np.square(x) + 2.5\n",
    "M = 2\n",
    "reg = 0.1\n",
    "pred_err = pred_error(x[:-2], x[-2:], t[:-2], t[-2:], M, reg)\n",
    "\n",
    "assert pred_err < 0.001, \"pred_err is too big\"\n",
    "\n"
   ]
  },
  {
   "cell_type": "markdown",
   "metadata": {
    "pycharm": {
     "name": "#%% md\n"
    }
   },
   "source": [
    "b) (10 points) Now write a method find_best_m_and_lamb(x, t) that finds the best values for $M$ and $\\lambda$. The method should return the best $M$ and $\\lambda$. To get you started, here is a method you can use to generate indices of cross-validation folds."
   ]
  },
  {
   "cell_type": "code",
   "execution_count": 379,
   "metadata": {
    "pycharm": {
     "name": "#%%\n"
    }
   },
   "outputs": [],
   "source": [
    "def kfold_indices(N, k):\n",
    "    all_indices = np.arange(N,dtype=int)\n",
    "    np.random.shuffle(all_indices)\n",
    "    idx = [int(i) for i in np.floor(np.linspace(0,N,k+1))]\n",
    "    train_folds = []\n",
    "    valid_folds = []\n",
    "    for fold in range(k):\n",
    "        valid_indices = all_indices[idx[fold]:idx[fold+1]]\n",
    "        valid_folds.append(valid_indices)\n",
    "        train_folds.append(np.setdiff1d(all_indices, valid_indices))\n",
    "    return train_folds, valid_folds\n"
   ]
  },
  {
   "cell_type": "code",
   "execution_count": 380,
   "metadata": {
    "pycharm": {
     "name": "#%%\n"
    }
   },
   "outputs": [],
   "source": [
    "def find_best_m_and_lamb(x, t):\n",
    "\n",
    "    K = 5  # Folds\n",
    "    N = len(x)  # Datapoints\n",
    "    M = range(11)  # Polynomial order choices\n",
    "    reg = [math.e**(-i) for i in reversed(range(11))]  # Lambda choices\n",
    "\n",
    "    testtt = kfold_indices(N, K)  # Get train and validation indices\n",
    "    train_folds, valid_folds = testtt\n",
    "    print(testtt)\n",
    "\n",
    "    pred_err = np.zeros([len(M),len(reg)])  # Prediction errors for every (M,reg) combination\n",
    "\n",
    "    for mi,m in enumerate(M):  # For each M choice\n",
    "        for li,l in enumerate(reg):  # For each lamda choice\n",
    "\n",
    "            pred_err_m_l = []  # All fold prediction errors for this (m,l) combination\n",
    "\n",
    "            for k in range(K): # For each fold\n",
    "\n",
    "                # Split dataset\n",
    "                x_train = [x[i] for i in train_folds[k]]\n",
    "                x_valid = [x[i] for i in valid_folds[k]]\n",
    "                t_train = [t[i] for i in train_folds[k]]\n",
    "                t_valid = [t[i] for i in valid_folds[k]]\n",
    "\n",
    "                pred_err_m_l.append(pred_error(x_train,x_valid,t_train,t_valid,m,l)) # Get prediction error for this fold and add to the list\n",
    "\n",
    "            pred_err[mi,li] = sum(pred_err_m_l)/len(pred_err_m_l)  # Calculate average error for this (m,l) combination\n",
    "\n",
    "    # Get parameters with smallest error\n",
    "    M_best = M[np.where(pred_err == pred_err.min())[0][0]]\n",
    "    lamb_best = reg[np.where(pred_err == pred_err.min())[1][0]]\n",
    "\n",
    "    return M_best, lamb_best"
   ]
  },
  {
   "cell_type": "code",
   "execution_count": 381,
   "metadata": {
    "pycharm": {
     "name": "#%%\n"
    }
   },
   "outputs": [
    {
     "name": "stdout",
     "output_type": "stream",
     "text": [
      "([array([0, 2, 3, 4, 5, 6, 7, 9]), array([0, 1, 3, 5, 6, 7, 8, 9]), array([0, 1, 2, 3, 4, 6, 8, 9]), array([1, 2, 4, 5, 6, 7, 8, 9]), array([0, 1, 2, 3, 4, 5, 7, 8])], [array([1, 8]), array([2, 4]), array([7, 5]), array([0, 3]), array([6, 9])])\n"
     ]
    },
    {
     "data": {
      "text/plain": [
       "(2, 4.5399929762484875e-05)"
      ]
     },
     "execution_count": 381,
     "metadata": {},
     "output_type": "execute_result"
    }
   ],
   "source": [
    "find_best_m_and_lamb(x, t)"
   ]
  },
  {
   "cell_type": "code",
   "execution_count": 382,
   "metadata": {
    "pycharm": {
     "name": "#%%\n"
    }
   },
   "outputs": [],
   "source": [
    "### This is not an empty cell (You don't need to care about it)."
   ]
  },
  {
   "cell_type": "markdown",
   "metadata": {
    "pycharm": {
     "name": "#%% md\n"
    }
   },
   "source": [
    "### 1.6 Why grid search? (5 points)\n",
    "\n",
    "Grid search is an commonly-used technique to tune hyper-parameters in a model.\n",
    "Considering the case described in the previous step of this assignment, running a grid search over the possible parameter values (10 possible values for both $M$ and $\\lambda$), results in two nested loops exploring $10 \\times 10 = 100$ different configurations for the model. \n",
    "\n",
    "a) (3 points) Why do we want to optimize by changing the two hyperparameters at the same time, and not in a sequential way? We could initialise all parameters randomly, fix one parameter at a time and iterate over the other, resulting in only $10 + 10 = 20$ experiments!"
   ]
  },
  {
   "cell_type": "markdown",
   "metadata": {
    "pycharm": {
     "name": "#%% md\n"
    }
   },
   "source": [
    "In this case, the final tuned parameter values will depend on the initial randomly chosen values, and the grid search not find the actual optimal value consistently. Since the search occurs in only two directions (one per parameter), one (or both) of the final tuned parameters will be equal to its random initial value. This leaves out any irregular behaviour that depends on both parameters. For example, the result could be better if both parameters are high instead of just one. If another random initial parameter value was chosen, it's possible that the result would be better - so the grid search does not perform the same each run."
   ]
  },
  {
   "cell_type": "markdown",
   "metadata": {
    "pycharm": {
     "name": "#%% md\n"
    }
   },
   "source": [
    "For more complex models, the number of combinations easily explodes with the number of parameters. For example, with 5 parameters we would run $10 \\times 10 \\times 10 \\times 10 \\times 10 = 100,000$ experiments.\n",
    "\n",
    "b) (2 points) Try to think or find in literature one alternative to grid search to tune hyper-parameters more efficiently. Explain very briefly (2-3 lines max) how this method avoids the combinatorial explosion we have see in grid search."
   ]
  },
  {
   "cell_type": "markdown",
   "metadata": {
    "pycharm": {
     "name": "#%% md\n"
    }
   },
   "source": [
    "YOUR ANSWER HERE"
   ]
  },
  {
   "cell_type": "markdown",
   "metadata": {
    "pycharm": {
     "name": "#%% md\n"
    }
   },
   "source": [
    "### 1.7 Plot best cross-validated fit (5 points)\n",
    "\n",
    "For some dataset with $N = 10$, plot the model with the optimal $M$ and $\\lambda$ according to the cross-validation error, using the method you just wrote. In addition, the plot should show the dataset itself and the function that we try to approximate. Let the plot make clear which $M$ and $\\lambda$ were found."
   ]
  },
  {
   "cell_type": "code",
   "execution_count": 453,
   "metadata": {
    "pycharm": {
     "name": "#%%\n"
    }
   },
   "outputs": [
    {
     "name": "stdout",
     "output_type": "stream",
     "text": [
      "([array([1, 2, 3, 4, 5, 7, 8, 9]), array([0, 1, 2, 4, 6, 7, 8, 9]), array([0, 1, 2, 3, 4, 5, 6, 7]), array([0, 1, 3, 5, 6, 7, 8, 9]), array([0, 2, 3, 4, 5, 6, 8, 9])], [array([6, 0]), array([3, 5]), array([8, 9]), array([4, 2]), array([7, 1])])\n"
     ]
    },
    {
     "data": {
      "text/plain": [
       "<function matplotlib.pyplot.show(close=None, block=None)>"
      ]
     },
     "execution_count": 453,
     "metadata": {},
     "output_type": "execute_result"
    },
    {
     "data": {
      "image/png": "[encoded data removed]",
      "text/plain": [
       "<Figure size 2000x1000 with 1 Axes>"
      ]
     },
     "metadata": {},
     "output_type": "display_data"
    }
   ],
   "source": [
    "def dataset(n):\n",
    "    x = np.linspace(-5, 5, n)\n",
    "    t = x**2 + np.sin(x**2 + 4) + ((x - 1/17)**3) * np.cos(x)\n",
    "    return x, t\n",
    "\n",
    "N = 10  # Number of datapoints\n",
    "M, Lambda = find_best_m_and_lamb(x, t)\n",
    "K = 100  # Number of points to create a linear space for the continuous functions\n",
    "\n",
    "x, t = dataset(N)  # Sample dataset (random data in every run)\n",
    "\n",
    "w, _ = fit_polynomial_reg(x, t, M, lamb)\n",
    "\n",
    "x_real = np.linspace(-5, 5, K)\n",
    "t_real = x_real**2 + np.sin(x_real**2 + 4) + ((x_real - 1/17)**3) * np.cos(x_real)\n",
    "\n",
    "t_pred = 0\n",
    "for i in np.arange(M + 1):\n",
    "    t_pred += w[i]*(x_real**i)\n",
    "\n",
    "fig, ax = plt.subplots()\n",
    "ax.scatter(x, t, c='b', s=100)\n",
    "ax.plot(x_real, t_real, 'g', label='$f(x) = x^2 + sin(x^2 + 4) + (x - 1/17)^3 .cos(x)$') #function that we are trying to approximate\n",
    "\n",
    "w1 = np.absolute(np.round(w, 2))\n",
    "\n",
    "ax.plot(x_real, t_pred, 'r')\n",
    "\n",
    "ax.text(2, 8, 'M = '+str(M)+\"\\n$\\lambda$ = \"+str(np.round(Lambda, 7)), fontsize=17)\n",
    "\n",
    "leg = ax.legend();\n",
    "ax.legend(frameon=True, loc='upper center', ncol=1, prop={'size':15})\n",
    "\n",
    "plt.show\n",
    "\n",
    "# it does weird stuff when (8,9), (9,0) or (0, 1)\n",
    "\n",
    "# ([array([0, 1, 2, 3, 4, 5, 7, 8]), array([0, 1, 2, 4, 5, 6, 7, 9]), array([2, 3, 4, 5, 6, 7, 8, 9]), array([0, 1, 3, 4, 5, 6, 8, 9]), array([0, 1, 2, 3, 6, 7, 8, 9])], [array([9, 6]), array([8, 3]), array([1, 0]), array([2, 7]), array([5, 4])])\n",
    "# ([array([0, 1, 2, 3, 5, 6, 8, 9]), array([0, 1, 2, 3, 4, 5, 7, 9]), array([2, 3, 4, 5, 6, 7, 8, 9]), array([0, 1, 2, 3, 4, 6, 7, 8]), array([0, 1, 4, 5, 6, 7, 8, 9])], [array([7, 4]), array([8, 6]), array([0, 1]), array([5, 9]), array([3, 2])])\n",
    "# ([array([0, 1, 2, 3, 4, 6, 7, 8]), array([0, 1, 2, 5, 6, 7, 8, 9]), array([0, 1, 3, 4, 5, 6, 8, 9]), array([2, 3, 4, 5, 6, 7, 8, 9]), array([0, 1, 2, 3, 4, 5, 7, 9])], [array([9, 5]), array([3, 4]), array([7, 2]), array([1, 0]), array([8, 6])])\n",
    "# ([array([0, 1, 3, 4, 6, 7, 8, 9]), array([0, 2, 3, 4, 5, 7, 8, 9]), array([0, 1, 2, 4, 5, 6, 8, 9]), array([1, 2, 3, 4, 5, 6, 7, 8]), array([0, 1, 2, 3, 5, 6, 7, 9])], [array([2, 5]), array([6, 1]), array([3, 7]), array([9, 0]), array([8, 4])])\n",
    "# ([array([0, 1, 2, 3, 6, 7, 8, 9]), array([1, 2, 3, 4, 5, 6, 7, 8]), array([0, 2, 3, 4, 5, 6, 8, 9]), array([0, 1, 4, 5, 6, 7, 8, 9]), array([0, 1, 2, 3, 4, 5, 7, 9])], [array([5, 4]), array([9, 0]), array([7, 1]), array([3, 2]), array([8, 6])])\n",
    "# ([array([0, 1, 2, 3, 6, 7, 8, 9]), array([0, 1, 2, 3, 4, 5, 6, 7]), array([0, 1, 3, 4, 5, 7, 8, 9]), array([1, 2, 3, 4, 5, 6, 8, 9]), array([0, 2, 4, 5, 6, 7, 8, 9])], [array([4, 5]), array([9, 8]), array([2, 6]), array([0, 7]), array([1, 3])])\n",
    "# ([array([0, 1, 2, 3, 4, 5, 6, 7]), array([0, 1, 2, 4, 5, 7, 8, 9]), array([0, 2, 3, 4, 6, 7, 8, 9]), array([1, 2, 3, 5, 6, 7, 8, 9]), array([0, 1, 3, 4, 5, 6, 8, 9])], [array([8, 9]), array([3, 6]), array([5, 1]), array([0, 4]), array([2, 7])])\n",
    "# ([array([0, 1, 2, 5, 6, 7, 8, 9]), array([0, 2, 3, 4, 6, 7, 8, 9]), array([0, 1, 2, 3, 4, 5, 8, 9]), array([1, 3, 4, 5, 6, 7, 8, 9]), array([0, 1, 2, 3, 4, 5, 6, 7])], [array([4, 3]), array([1, 5]), array([7, 6]), array([2, 0]), array([9, 8])])\n",
    "# ([array([1, 3, 4, 5, 6, 7, 8, 9]), array([0, 1, 2, 3, 6, 7, 8, 9]), array([0, 1, 2, 3, 4, 5, 6, 7]), array([0, 2, 3, 4, 5, 6, 8, 9]), array([0, 1, 2, 4, 5, 7, 8, 9])], [array([2, 0]), array([5, 4]), array([8, 9]), array([1, 7]), array([6, 3])])\n",
    "# ([array([0, 1, 2, 4, 5, 6, 8, 9]), array([0, 1, 2, 3, 5, 7, 8, 9]), array([1, 2, 3, 4, 6, 7, 8, 9]), array([0, 1, 2, 3, 4, 5, 6, 7]), array([0, 3, 4, 5, 6, 7, 8, 9])], [array([3, 7]), array([6, 4]), array([5, 0]), array([9, 8]), array([1, 2])])"
   ]
  },
  {
   "cell_type": "markdown",
   "metadata": {
    "pycharm": {
     "name": "#%% md\n"
    }
   },
   "source": [
    "## Part 2: Bayesian Linear (Polynomial) Regression\n",
    "\n",
    "Relevant material for this part:\n",
    "\n",
    "* Lecture 4.4 and 4.5 (Sequential Bayesian Learning, Bayesian Predictive Distributions)\n",
    "* Section 1.1 and 3.3 from Bishop's book Pattern recognition for machine learning.\n",
    "* Mathematics for machine learning (Section 8.4)\n",
    "\n",
    "### 2.1 Sine 2 (5 points)\n",
    "\n",
    "Write a function `gen_sine2(N)` that behaves identically to `gen_sine(N)` except that the generated values $x_i$ are not linearly spaced, but drawn from a uniform distribution between $0$ and $2 \\pi$."
   ]
  },
  {
   "cell_type": "code",
   "execution_count": 25,
   "metadata": {
    "pycharm": {
     "name": "#%%\n"
    }
   },
   "outputs": [],
   "source": [
    "def gen_sine2(n):\n",
    "    x = np.random.uniform(0, 2*np.pi, n)\n",
    "    t = np.random.normal(np.sin(x), 0.25)\n",
    "    \n",
    "    return x, t\n"
   ]
  },
  {
   "cell_type": "code",
   "execution_count": 26,
   "metadata": {
    "pycharm": {
     "name": "#%%\n"
    }
   },
   "outputs": [],
   "source": [
    "### Test your function\n",
    "np.random.seed(42)\n",
    "N = 10\n",
    "x, t = gen_sine2(N)\n",
    "\n",
    "assert x.shape == (N,), \"the shape of x is incorrect\"\n",
    "assert t.shape == (N,), \"the shape of t is incorrect\"\n",
    "\n"
   ]
  },
  {
   "cell_type": "markdown",
   "metadata": {
    "pycharm": {
     "name": "#%% md\n"
    }
   },
   "source": [
    "### 2.2 Compute Posterior (15 points)\n",
    "\n",
    "You're going to implement a Bayesian linear regression model, and fit it to the periodic data. Your regression model has a zero-mean isotropic Gaussian prior over the parameters, governed by a single (scalar) precision parameter $\\alpha$, i.e.:\n",
    "\n",
    "$$p(\\mathbf{w} \\;|\\; \\alpha) = \\mathcal{N}(\\mathbf{w} \\;|\\; 0, \\alpha^{-1} \\mathbf{I})$$\n",
    "\n",
    "The covariance and mean of the posterior are given by:\n",
    "\n",
    "$$\\mathbf{S}_N= \\left( \\alpha \\mathbf{I} + \\beta \\mathbf{\\Phi}^T \\mathbf{\\Phi} \\right)^{-1} $$\n",
    "$$\\mathbf{m}_N = \\beta\\; \\mathbf{S}_N \\mathbf{\\Phi}^T \\mathbf{t}$$\n",
    "\n",
    "where $\\alpha$ is the precision of the predictive distribution, and $\\beta$ is the noise precision. \n",
    "See MLPR chapter 3.3 for background.\n",
    "\n",
    "Write a method `fit_polynomial_bayes(x, t, M, alpha, beta)` that returns the mean $\\mathbf{m}_N$ and covariance $\\mathbf{S}_N$ of the posterior for a $M$-th order polynomial. In addition it should return the design matrix $\\mathbf{\\Phi}$. The arguments `x`, `t` and `M` have the same meaning as in question 1.2."
   ]
  },
  {
   "cell_type": "code",
   "execution_count": 27,
   "metadata": {
    "pycharm": {
     "name": "#%%\n"
    }
   },
   "outputs": [
    {
     "data": {
      "text/plain": [
       "(array([2.45152602, 2.45152602, 2.45152602]),\n",
       " array([[ 1.11197706, -0.55468961, -0.55468961],\n",
       "        [-0.55468961,  1.11197706, -0.55468961],\n",
       "        [-0.55468961, -0.55468961,  1.11197706]]),\n",
       " array([[0.74081822, 0.74081822, 0.74081822],\n",
       "        [0.83403369, 0.83403369, 0.83403369],\n",
       "        [0.9115648 , 0.9115648 , 0.9115648 ],\n",
       "        [0.9672161 , 0.9672161 , 0.9672161 ],\n",
       "        [0.99630315, 0.99630315, 0.99630315],\n",
       "        [0.99630315, 0.99630315, 0.99630315],\n",
       "        [0.9672161 , 0.9672161 , 0.9672161 ],\n",
       "        [0.9115648 , 0.9115648 , 0.9115648 ],\n",
       "        [0.83403369, 0.83403369, 0.83403369],\n",
       "        [0.74081822, 0.74081822, 0.74081822]]))"
      ]
     },
     "execution_count": 27,
     "metadata": {},
     "output_type": "execute_result"
    }
   ],
   "source": [
    "def phifun(x, alpha, M):\n",
    "    I = range (M)\n",
    "    v = np.array([[np.exp(-1/2 * (x_j**2 * alpha)) for i in I] for x_j in x])\n",
    "    return v\n",
    "\n",
    "def Cov(alpha, beta, M, Phi):\n",
    "    A = alpha*(np.identity(M))\n",
    "    B = beta * (np.dot(np.transpose(Phi), Phi))\n",
    "    S = np.linalg.inv(A + B)\n",
    "    return S\n",
    "\n",
    "def mean(beta, S, Phi, t):\n",
    "    m = np.dot(np.dot(np.multiply(beta, S), np.transpose(Phi)), t)\n",
    "    return m\n",
    "    \n",
    "def fit_polynomial_bayes(x, t, M, alpha, beta):\n",
    "    M = M + 1\n",
    "    Phi = phifun(x, alpha, M)\n",
    "    S = Cov(alpha, beta, M, Phi)\n",
    "    m =mean(beta, S, Phi, t)\n",
    "    \n",
    "    return m, S, Phi\n",
    "\n",
    "fit_polynomial_bayes(np.linspace(-1, 1, N), 0.3*np.square(x) + 2.5, 2, 0.6, 16)"
   ]
  },
  {
   "cell_type": "code",
   "execution_count": 28,
   "metadata": {
    "deletable": false,
    "editable": false,
    "nbgrader": {
     "cell_type": "code",
     "checksum": "57b6869c4ee7ece5b4ecc93c5d8b3d0b",
     "grade": true,
     "grade_id": "cell-5cf266fca46cd4e9",
     "locked": true,
     "points": 15,
     "schema_version": 3,
     "solution": false
    },
    "pycharm": {
     "name": "#%%\n"
    }
   },
   "outputs": [],
   "source": [
    "### Test your function\n",
    "N = 10\n",
    "x = np.linspace(-1, 1, N)\n",
    "t = 0.3*np.square(x) + 2.5\n",
    "M = 2\n",
    "alpha = 0.6\n",
    "beta = 16\n",
    "m, S, Phi = fit_polynomial_bayes(x, t, M, alpha, beta)\n",
    "\n",
    "assert m.shape == (M+1,), \"the shape of m is incorrect\" \n",
    "assert S.shape == (M+1, M+1), \"the shape of S is incorrect\"\n",
    "assert Phi.shape == (N, M+1), \"the shape of Phi is incorrect\"\n",
    "\n"
   ]
  },
  {
   "cell_type": "markdown",
   "metadata": {
    "deletable": false,
    "editable": false,
    "nbgrader": {
     "cell_type": "markdown",
     "checksum": "2cf269365fe24f0859598ede452b26bf",
     "grade": false,
     "grade_id": "cell-471f21c230ca4203",
     "locked": true,
     "schema_version": 3,
     "solution": false
    },
    "pycharm": {
     "name": "#%% md\n"
    }
   },
   "source": [
    "### 2.3 Prediction (10 points)\n",
    "\n",
    "The predictive distribution of Bayesian linear regression is:\n",
    "\n",
    "$$ p(t \\;|\\; \\mathbf{x}, \\mathbf{t}, \\alpha, \\beta) = \\mathcal{N}(t \\;|\\; \\mathbf{m}_N^T \\phi(\\mathbf{x}), \\sigma_N^2(\\mathbf{x}))$$\n",
    "\n",
    "$$ \\sigma_N^2 = \\frac{1}{\\beta} + \\phi(\\mathbf{x})^T \\mathbf{S}_N \\phi(\\mathbf{x}) $$\n",
    "\n",
    "where $\\phi(\\mathbf{x})$ are the computed features for a new datapoint $\\mathbf{x}$, and $t$ is the predicted variable for datapoint $\\mathbf{x}$. \n",
    "\n",
    "Write a function that `predict_polynomial_bayes(x, m, S, beta)` that returns the predictive mean, variance and design matrix $\\mathbf{\\Phi}$ given a new datapoint `x`, posterior mean `m`, posterior variance `S` and a choice of model variance `beta`."
   ]
  },
  {
   "cell_type": "code",
   "execution_count": 29,
   "metadata": {
    "deletable": false,
    "nbgrader": {
     "cell_type": "code",
     "checksum": "45fb4bc1bc26e2e2865d96eee138c9db",
     "grade": false,
     "grade_id": "cell-865ac2a455500d4b",
     "locked": false,
     "schema_version": 3,
     "solution": true
    },
    "pycharm": {
     "name": "#%%\n"
    }
   },
   "outputs": [],
   "source": [
    "def phi(x, S, m): #gives Phi_j applied to the vector x (returns [phi_j(x1), ..., phi_j(x_N)])\n",
    "    M = m.shape[0]\n",
    "    N = x.shape[0]\n",
    "    phi = np.zeros([N, M])\n",
    "    \n",
    "    for j in np.arange(M):\n",
    "        phi[:, j] = np.array([np.exp(-1/(2 * S[j, j]) * ((x - m[j])**2)) for x in x])[0]\n",
    "    phi = np.transpose(phi)\n",
    "    return phi\n",
    "\n",
    "def meanfun(m, Phi):\n",
    "    m_pred = np.dot(np.transpose(m), Phi)\n",
    "    m_pred = np.squeeze(m_pred)\n",
    "    return m_pred\n",
    "\n",
    "def var(beta, Phi_x, S): #Marta, check this sigma\n",
    "    sigma = 1/beta + np.dot(np.dot(np.transpose(Phi_x), S), Phi_x)\n",
    "    return sigma[0]\n",
    "\n",
    "def predict_polynomial_bayes(x, m, S, beta):\n",
    "    m = np.reshape(m, (m.shape[0], 1))\n",
    "    N = x.shape[0]\n",
    "    x = np.reshape(x, (x.shape[0], 1))\n",
    "    Phi_t = phi(x, S, m)\n",
    "    Phi = np.transpose(Phi_t)\n",
    "    mean = meanfun(m, Phi_t)\n",
    "    sigma = var(beta, Phi_t, S)\n",
    "    \n",
    "    return mean, sigma, Phi"
   ]
  },
  {
   "cell_type": "code",
   "execution_count": 30,
   "metadata": {
    "deletable": false,
    "editable": false,
    "nbgrader": {
     "cell_type": "code",
     "checksum": "6f36b9ca870925b0fc5229e429a95ca0",
     "grade": true,
     "grade_id": "cell-ecb92bcbe0131eb9",
     "locked": true,
     "points": 10,
     "schema_version": 3,
     "solution": false
    },
    "pycharm": {
     "name": "#%%\n"
    }
   },
   "outputs": [],
   "source": [
    "### Test your function\n",
    "np.random.seed(42)\n",
    "N = 10\n",
    "x = np.linspace(-1, 1, N)\n",
    "m = np.random.rand(3)\n",
    "S = np.random.rand(3, 3)\n",
    "beta = 16\n",
    "mean, sigma, Phi = predict_polynomial_bayes(x, m, S, beta)\n",
    "\n",
    "assert mean.shape == (N,), \"the shape of mean is incorrect\"\n",
    "assert sigma.shape == (N,), \"the shape of sigma is incorrect\"\n",
    "assert Phi.shape == (N, m.shape[0]), \"the shape of Phi is incorrect\"\n",
    "\n"
   ]
  },
  {
   "cell_type": "markdown",
   "metadata": {
    "deletable": false,
    "editable": false,
    "nbgrader": {
     "cell_type": "markdown",
     "checksum": "42768579435c85aa3198f6053e2c5e4b",
     "grade": false,
     "grade_id": "cell-50452fe12b83c7ce",
     "locked": true,
     "schema_version": 3,
     "solution": false
    },
    "pycharm": {
     "name": "#%% md\n"
    }
   },
   "source": [
    "### 2.4 Plot predictive distribution (10 points)\n",
    "\n",
    "a) (5 points) Generate 10 datapoints with `gen_sine2(10)`. Compute the posterior mean and covariance for a Bayesian polynomial regression model with $M=4$, $\\alpha=\\frac{2}{5}$ and $\\beta=\\frac{1}{0.25^2}$.\n",
    "Plot the Bayesian predictive distribution, where you plot (for $x$ between 0 and $2 \\pi$) $t$'s predictive mean and the predictive standard deviation using `plt.fill_between(..., alpha=0.1)` (the alpha argument induces transparency).\n",
    "\n",
    "Include the datapoints in your plot.\n"
   ]
  },
  {
   "cell_type": "code",
   "execution_count": 31,
   "metadata": {
    "pycharm": {
     "name": "#%%\n"
    }
   },
   "outputs": [
    {
     "ename": "NameError",
     "evalue": "name 'sig' is not defined",
     "output_type": "error",
     "traceback": [
      "\u001b[0;31m---------------------------------------------------------------------------\u001b[0m",
      "\u001b[0;31mNameError\u001b[0m                                 Traceback (most recent call last)",
      "Input \u001b[0;32mIn [31]\u001b[0m, in \u001b[0;36m<cell line: 1>\u001b[0;34m()\u001b[0m\n\u001b[0;32m----> 1\u001b[0m \u001b[43msig\u001b[49m\n",
      "\u001b[0;31mNameError\u001b[0m: name 'sig' is not defined"
     ]
    }
   ],
   "source": [
    "sig"
   ]
  },
  {
   "cell_type": "markdown",
   "metadata": {
    "pycharm": {
     "name": "#%% md\n"
    }
   },
   "source": [
    "b) (5 points) For a second plot, draw 100 samples from the parameters’ posterior distribution. Each of these samples is a certain choice of parameters for 4-th order polynomial regression. Display each of these 100 polynomials.\n"
   ]
  },
  {
   "cell_type": "code",
   "execution_count": 32,
   "metadata": {
    "deletable": false,
    "nbgrader": {
     "cell_type": "code",
     "checksum": "a6cbc9e5b0de9f7f9c847b1209275748",
     "grade": true,
     "grade_id": "cell-68cf4e7a773b42b9",
     "locked": false,
     "points": 5,
     "schema_version": 3,
     "solution": true
    },
    "pycharm": {
     "name": "#%%\n"
    }
   },
   "outputs": [
    {
     "ename": "NotImplementedError",
     "evalue": "",
     "output_type": "error",
     "traceback": [
      "\u001b[0;31m---------------------------------------------------------------------------\u001b[0m",
      "\u001b[0;31mNotImplementedError\u001b[0m                       Traceback (most recent call last)",
      "Input \u001b[0;32mIn [32]\u001b[0m, in \u001b[0;36m<cell line: 2>\u001b[0;34m()\u001b[0m\n\u001b[1;32m      1\u001b[0m \u001b[38;5;66;03m# YOUR CODE HERE\u001b[39;00m\n\u001b[0;32m----> 2\u001b[0m \u001b[38;5;28;01mraise\u001b[39;00m \u001b[38;5;167;01mNotImplementedError\u001b[39;00m()\n",
      "\u001b[0;31mNotImplementedError\u001b[0m: "
     ]
    }
   ],
   "source": [
    "# YOUR CODE HERE\n",
    "raise NotImplementedError()"
   ]
  },
  {
   "cell_type": "markdown",
   "metadata": {
    "deletable": false,
    "editable": false,
    "nbgrader": {
     "cell_type": "markdown",
     "checksum": "a17d4c2e94d28da195bdeacca04814e4",
     "grade": false,
     "grade_id": "cell-4fdd4eca06d7b5d5",
     "locked": true,
     "schema_version": 3,
     "solution": false
    },
    "pycharm": {
     "name": "#%% md\n"
    }
   },
   "source": [
    "### 2.5 Additional questions (10 points)\n",
    "\n",
    "a) (5 points) Why is $\\beta=16$ the best choice of $\\beta$ in section 2.4?\n",
    "\n"
   ]
  },
  {
   "cell_type": "markdown",
   "metadata": {
    "deletable": false,
    "nbgrader": {
     "cell_type": "markdown",
     "checksum": "16413525920dbbe3f4bfe717867204ba",
     "grade": true,
     "grade_id": "cell-ac9287d87d554547",
     "locked": false,
     "points": 5,
     "schema_version": 3,
     "solution": true
    },
    "pycharm": {
     "name": "#%% md\n"
    }
   },
   "source": [
    "YOUR ANSWER HERE"
   ]
  },
  {
   "cell_type": "markdown",
   "metadata": {
    "deletable": false,
    "editable": false,
    "nbgrader": {
     "cell_type": "markdown",
     "checksum": "5db5f599fe17da142e4a8d0632b2a42d",
     "grade": false,
     "grade_id": "cell-c3c65e3353057680",
     "locked": true,
     "schema_version": 3,
     "solution": false
    },
    "pycharm": {
     "name": "#%% md\n"
    }
   },
   "source": [
    "b) (5 points) What problems do we face when it comes to choosing basis functions in linear models?"
   ]
  },
  {
   "cell_type": "markdown",
   "metadata": {
    "collapsed": true,
    "deletable": false,
    "nbgrader": {
     "cell_type": "markdown",
     "checksum": "d28f3ba5fe296d03caca39c240fbb769",
     "grade": true,
     "grade_id": "cell-a3e38ba4c988b6a9",
     "locked": false,
     "points": 5,
     "schema_version": 3,
     "solution": true
    },
    "pycharm": {
     "name": "#%% md\n"
    }
   },
   "source": [
    "YOUR ANSWER HERE"
   ]
  },
  {
   "cell_type": "code",
   "execution_count": null,
   "metadata": {
    "pycharm": {
     "name": "#%%\n"
    }
   },
   "outputs": [],
   "source": []
  },
  {
   "cell_type": "code",
   "execution_count": null,
   "metadata": {
    "pycharm": {
     "name": "#%%\n"
    }
   },
   "outputs": [],
   "source": []
  }
 ],
 "metadata": {
  "kernelspec": {
   "display_name": "Python 3 (ipykernel)",
   "language": "python",
   "name": "python3"
  },
  "language_info": {
   "codemirror_mode": {
    "name": "ipython",
    "version": 3
   },
   "file_extension": ".py",
   "mimetype": "text/x-python",
   "name": "python",
   "nbconvert_exporter": "python",
   "pygments_lexer": "ipython3",
   "version": "3.9.5"
  },
  "toc": {
   "base_numbering": 1,
   "nav_menu": {},
   "number_sections": true,
   "sideBar": true,
   "skip_h1_title": false,
   "title_cell": "Table of Contents",
   "title_sidebar": "Contents",
   "toc_cell": false,
   "toc_position": {},
   "toc_section_display": true,
   "toc_window_display": false
  },
  "vscode": {
   "interpreter": {
    "hash": "e25b773d072dd9f93e757774256558c671135decaea047ac398712eefa19005c"
   }
  }
 },
 "nbformat": 4,
 "nbformat_minor": 1
}
